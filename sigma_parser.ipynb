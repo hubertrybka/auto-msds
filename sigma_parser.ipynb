{
 "cells": [
  {
   "metadata": {
    "ExecuteTime": {
     "end_time": "2024-08-03T18:52:32.615768Z",
     "start_time": "2024-08-03T18:52:32.381149Z"
    }
   },
   "cell_type": "code",
   "source": [
    "import json\n",
    "\n",
    "import PyPDF2 as pdf\n",
    "import re"
   ],
   "id": "4bc93fc8edf91b04",
   "outputs": [],
   "execution_count": 1
  },
  {
   "metadata": {
    "ExecuteTime": {
     "end_time": "2024-08-03T19:34:50.169426Z",
     "start_time": "2024-08-03T19:34:50.074356Z"
    }
   },
   "cell_type": "code",
   "source": [
    "pdf_path = '/home/hubert/Desktop/sds/64-17-5.pdf'\n",
    "\n",
    "reader = pdf.PdfReader(pdf_path)\n",
    "print(reader.pages[0].extract_text())"
   ],
   "id": "ac9fa3a91dcac366",
   "outputs": [
    {
     "name": "stdout",
     "output_type": "stream",
     "text": [
      " \n",
      " \n",
      "Millipore - 1.08543  Strona 1  z  23 \n",
      " \n",
      "The life science business of Merck operates as MilliporeSigma in \n",
      "the US and Canada  \n",
      "  \n",
      " \n",
      " \n",
      "  \n",
      " \n",
      " \n",
      "KARTA CHARAKTERYSTYKI  \n",
      "zgodnie z Rozporz ądzeniem WE 1907/2006  Wersja  8.10 \n",
      "Aktualizacja  27.03.2023  \n",
      "Wydrukowano dnia  18.11.2023   \n",
      "SEKCJA 1: Identyfikacja substancji/mieszaniny i identyfikacja przedsi ębiorstwa  \n",
      "1.1 Identyfikatory produktu  \n",
      "Nazwa wyrobu  : Etanol dla biologii molekularnej  \n",
      " \n",
      "Numer produktu  : 1.08543  \n",
      "Numer katalogowy  : 108543  \n",
      "Marka  : Millipore  \n",
      "Numer indeksowy  : 603-002-00-5 \n",
      "Nr REACH  : 01-2119457610 -43-XXXX  \n",
      "Nr CAS  : 64-17-5 \n",
      " \n",
      "1.2 Istotne zidentyfikowane zastosowania substancji lub mieszaniny oraz \n",
      "zastosowania odradzane  \n",
      "Zastosowania \n",
      "zidentyfikowane  : Badania/analiza biochemiczna, Odczynnik do analizy  \n",
      "1.3 Dane dotycz ące dostawcy karty charakterystyki  \n",
      "Firma  : Merck Life Science Sp.z.o.o.   \n",
      "Szelągowska 30  \n",
      "PL-61-626 POZNAN   \n",
      "Numer telefonu  : +48 61 8290 -100 \n",
      "Faks : +48 61 8290 -120 \n",
      "Adres e -mail : TechnicalService@merckgroup.com  \n",
      "1.4 Numer telefonu alarmowego  \n",
      "Numer telefonu \n",
      "alarmowego  : +(48) -223988029 (CHEMTREC) 112 \n",
      "(numer alarmowy)  \n",
      " \n",
      " \n",
      "  \n",
      "SEKCJA 2: Identyfikacja zagro żeń \n",
      "2.1 Klasyfikacja substancji lub mieszaniny  \n",
      "Klasyfikacja zgodnie z Rozporz ądzeniem (WE) nr 1272/2008  \n",
      "Substancje ciek łe łatwopalne  (Kategoria 2 ), H225  \n",
      "Działanie drażniące na oczy  (Kategoria 2 ), H319  \n",
      "Pełny tekst zwrot ów H przytoczonych w tej Sekcji znajduje si ę w Sekcji 16.  \n",
      "2.2 Elementy oznakowania  \n",
      "Oznakowanie zgodnie z Rozporz ądzeniem (WE) nr 1272/2008  \n",
      "Piktogram  \n",
      "  \n",
      "Hasło ostrzegawcze  Niebezpiecze ństwo  \n"
     ]
    }
   ],
   "execution_count": 18
  },
  {
   "metadata": {
    "ExecuteTime": {
     "end_time": "2024-08-03T19:47:24.045283Z",
     "start_time": "2024-08-03T19:47:24.017220Z"
    }
   },
   "cell_type": "code",
   "source": [
    "class ParserPL():\n",
    "    def __init__(self, path):\n",
    "        self.reader = pdf.PdfReader(path)\n",
    "        self.name = re.compile(r'(?<=(Nazwa wyrobu  :)).*')\n",
    "        self.cas = re.compile(r'(?<=(Nr CAS  :)).*')\n",
    "        self.sigma = re.compile(r'sigma', re.IGNORECASE)\n",
    "        with open('data/h_dict.json', 'r') as file:\n",
    "            self.h_dict = json.load(file)\n",
    "    \n",
    "    def verify_sigma(self):\n",
    "        for page in self.reader.pages:\n",
    "            text = page.extract_text()\n",
    "            if re.findall(self.sigma, text):\n",
    "                return True\n",
    "        return False\n",
    "    \n",
    "    def return_name(self):\n",
    "        for page in self.reader.pages:\n",
    "            text = page.extract_text()\n",
    "            name = re.findall(self.name, text)\n",
    "            if name:\n",
    "                return name[0]\n",
    "    \n",
    "    def return_cas(self):\n",
    "        for page in self.reader.pages:\n",
    "            text = page.extract_text()\n",
    "            cas = re.findall(self.cas, text)\n",
    "            if cas:\n",
    "                return cas[0]\n",
    "    \n",
    "    def return_EUH_description(self):\n",
    "        EUH_description = []\n",
    "        EUHs = self.search_for_EUH()\n",
    "        for EUH in EUHs:\n",
    "            EUH_description.append(f'{EUH} - {self.h_dict[EUH]}')\n",
    "        return ('. ').join(EUH_description)\n",
    "        \n",
    "    def search_for_EUH(self):\n",
    "        for page in self.reader.pages:\n",
    "            text = page.extract_text()\n",
    "            if re.findall(re.compile(r'SEKCJA 16: Inne informacje'), text):\n",
    "                h_matches = re.findall(re.compile(r'H\\d[0-9]*'), text)\n",
    "                euh_matches = re.findall(re.compile(r'EUH\\d[0-9]*'), text)\n",
    "                all_matches = h_matches + euh_matches\n",
    "                return all_matches"
   ],
   "id": "9b9e1345e435161",
   "outputs": [],
   "execution_count": 23
  },
  {
   "metadata": {
    "ExecuteTime": {
     "end_time": "2024-08-03T19:47:33.457430Z",
     "start_time": "2024-08-03T19:47:33.299550Z"
    }
   },
   "cell_type": "code",
   "source": [
    "parser = ParserPL('data/example_sigma_PL.pdf')\n",
    "print(parser.verify_sigma())"
   ],
   "id": "3059da6850b43883",
   "outputs": [
    {
     "name": "stdout",
     "output_type": "stream",
     "text": [
      "True\n"
     ]
    }
   ],
   "execution_count": 26
  },
  {
   "metadata": {},
   "cell_type": "code",
   "outputs": [],
   "execution_count": null,
   "source": "",
   "id": "2cf4de2115e3b0b0"
  }
 ],
 "metadata": {
  "kernelspec": {
   "display_name": "Python 3",
   "language": "python",
   "name": "python3"
  },
  "language_info": {
   "codemirror_mode": {
    "name": "ipython",
    "version": 2
   },
   "file_extension": ".py",
   "mimetype": "text/x-python",
   "name": "python",
   "nbconvert_exporter": "python",
   "pygments_lexer": "ipython2",
   "version": "2.7.6"
  }
 },
 "nbformat": 4,
 "nbformat_minor": 5
}
